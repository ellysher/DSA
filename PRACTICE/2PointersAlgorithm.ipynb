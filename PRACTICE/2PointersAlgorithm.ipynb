{
 "cells": [
  {
   "cell_type": "code",
   "execution_count": 11,
   "id": "ca761469",
   "metadata": {},
   "outputs": [
    {
     "data": {
      "text/plain": [
       "3"
      ]
     },
     "execution_count": 11,
     "metadata": {},
     "output_type": "execute_result"
    }
   ],
   "source": [
    "def lengthOfLongestSubstring(s):\n",
    "    sett = set()\n",
    "    l = 0\n",
    "    w = 0\n",
    "\n",
    "    for r in range(len(s)):\n",
    "        while s[r] in sett:\n",
    "            sett.remove(s[l])\n",
    "            l += 1\n",
    "        sett.add(s[r])\n",
    "        w = max(w, r - l + 1)\n",
    "\n",
    "    return w\n",
    "\n",
    "    \n",
    "# Example\n",
    "\n",
    "lengthOfLongestSubstring(\"pwwkew\")\n"
   ]
  },
  {
   "cell_type": "code",
   "execution_count": null,
   "id": "c4fa6421",
   "metadata": {},
   "outputs": [],
   "source": []
  }
 ],
 "metadata": {
  "kernelspec": {
   "display_name": "Python 3",
   "language": "python",
   "name": "python3"
  },
  "language_info": {
   "codemirror_mode": {
    "name": "ipython",
    "version": 3
   },
   "file_extension": ".py",
   "mimetype": "text/x-python",
   "name": "python",
   "nbconvert_exporter": "python",
   "pygments_lexer": "ipython3",
   "version": "3.11.0"
  }
 },
 "nbformat": 4,
 "nbformat_minor": 5
}
