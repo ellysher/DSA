{
 "cells": [
  {
   "cell_type": "code",
   "execution_count": 2,
   "metadata": {},
   "outputs": [
    {
     "data": {
      "text/plain": [
       "'Target found at index 5'"
      ]
     },
     "execution_count": 2,
     "metadata": {},
     "output_type": "execute_result"
    }
   ],
   "source": [
    "# LINEAR SEARCH ALGORITHM\n",
    "\n",
    "\n",
    "def linear_search(arr, target):\n",
    "    for i in range(len(arr)-1):\n",
    "        if arr[i]==target:\n",
    "            return f'Target found at index {i}'\n",
    "    return 'target not found'\n",
    "        \n",
    "\n",
    "# Exaample use case\n",
    "\n",
    "arr= [1,2,3,5,6,7,8,9]\n",
    "target=7\n",
    "\n",
    "linear_search(arr, target)"
   ]
  },
  {
   "cell_type": "code",
   "execution_count": null,
   "metadata": {},
   "outputs": [
    {
     "data": {
      "text/plain": [
       "'target not found'"
      ]
     },
     "execution_count": 4,
     "metadata": {},
     "output_type": "execute_result"
    }
   ],
   "source": [
    "# binary search algorithm, iterative\n",
    "# used for sorted arrays\n",
    "\n",
    "def binary_iterative(arr, target):\n",
    "    left,right =0, len(arr)-1\n",
    "\n",
    "    while left<=right:\n",
    "        mid= (left+right)//2\n",
    "         \n",
    "        if arr[mid]==target:\n",
    "            return f'target found at index {mid}'\n",
    "        \n",
    "        elif arr[mid]> target:\n",
    "            right=mid-1\n",
    "\n",
    "        else: \n",
    "            left=mid+1\n",
    "\n",
    "    return 'target not found'\n",
    "\n",
    "arr= [1,2,3,5,6,7,8,9]\n",
    "target=4\n",
    "\n",
    "binary_iterative(arr, target)"
   ]
  },
  {
   "cell_type": "code",
   "execution_count": 6,
   "metadata": {},
   "outputs": [
    {
     "data": {
      "text/plain": [
       "'target found at index 6'"
      ]
     },
     "execution_count": 6,
     "metadata": {},
     "output_type": "execute_result"
    }
   ],
   "source": [
    "# Binary Recursive\n",
    "\n",
    "def binary_recursive(arr, left, right, target):\n",
    "    if left>right:\n",
    "        return 'target not found'\n",
    "    \n",
    "    mid= (left+right)//2\n",
    "\n",
    "    if arr[mid]==target:\n",
    "        return 'target found at index{mid}'\n",
    "    elif arr[mid]<target:\n",
    "        return binary_recursive(arr, mid+1,right,target)\n",
    "    else: \n",
    "        return binary_recursive(arr,left,mid-1,target)\n",
    "    \n",
    "\n",
    "arr= [1,2,3,5,6,7,8,9]\n",
    "target=8\n",
    "\n",
    "binary_iterative(arr, target)"
   ]
  },
  {
   "cell_type": "code",
   "execution_count": 2,
   "metadata": {},
   "outputs": [
    {
     "data": {
      "text/plain": [
       "[2, 4, 5, 7, 9]"
      ]
     },
     "execution_count": 2,
     "metadata": {},
     "output_type": "execute_result"
    }
   ],
   "source": [
    "# Buble sort algorithm \n",
    "\n",
    "def buble_sort(arr):\n",
    "    n= len(arr)\n",
    "\n",
    "    for i in range(n-1):\n",
    "        swapped=False\n",
    "        for j in range(n-i-1):\n",
    "            if arr[j]> arr[j+1]:\n",
    "\n",
    "                arr[j],arr[j+1]=arr[j+1],arr[j]\n",
    "                swapped=True\n",
    "\n",
    "        if not swapped:\n",
    "            break\n",
    "                \n",
    "\n",
    "    return arr\n",
    "\n",
    "arr=[2,4,5,9,7]\n",
    "buble_sort(arr)"
   ]
  }
 ],
 "metadata": {
  "kernelspec": {
   "display_name": "Python 3",
   "language": "python",
   "name": "python3"
  },
  "language_info": {
   "codemirror_mode": {
    "name": "ipython",
    "version": 3
   },
   "file_extension": ".py",
   "mimetype": "text/x-python",
   "name": "python",
   "nbconvert_exporter": "python",
   "pygments_lexer": "ipython3",
   "version": "3.11.0"
  }
 },
 "nbformat": 4,
 "nbformat_minor": 2
}
