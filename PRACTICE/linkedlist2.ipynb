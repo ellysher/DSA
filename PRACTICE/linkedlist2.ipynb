{
 "cells": [
  {
   "cell_type": "code",
   "execution_count": 2,
   "id": "21e6e8c1",
   "metadata": {},
   "outputs": [],
   "source": [
    "class Node:\n",
    "    def __init__(self, val, next=None):\n",
    "        self.val=val\n",
    "        self.next=next\n",
    "\n",
    "\n",
    "    def __str__(self):\n",
    "        return str(self.val)\n",
    "    "
   ]
  },
  {
   "cell_type": "code",
   "execution_count": 4,
   "id": "e5020859",
   "metadata": {},
   "outputs": [],
   "source": [
    "Head=Node(1)\n",
    "B= Node(2)\n",
    "C= Node(3)\n",
    "D= Node(4)\n",
    "\n",
    "Head.next=B\n",
    "B.next=C\n",
    "C.next=D"
   ]
  },
  {
   "cell_type": "code",
   "execution_count": 10,
   "id": "34739d29",
   "metadata": {},
   "outputs": [
    {
     "name": "stdout",
     "output_type": "stream",
     "text": [
      "1\n",
      "2\n",
      "3\n",
      "4\n"
     ]
    }
   ],
   "source": [
    "# Traverse the list\n",
    "\n",
    "def traverse(self):\n",
    "\n",
    "    curr= Head\n",
    "    while curr:\n",
    "        print(curr)\n",
    "        curr=curr.next\n",
    "\n",
    "traverse(Head)"
   ]
  },
  {
   "cell_type": "code",
   "execution_count": 16,
   "id": "20f39f0c",
   "metadata": {},
   "outputs": [
    {
     "name": "stdout",
     "output_type": "stream",
     "text": [
      "1 -> 2 -> 3 -> 4\n"
     ]
    }
   ],
   "source": [
    "# Display\n",
    "\n",
    "def display(head):\n",
    "    curr=Head\n",
    "    elements=[]\n",
    "    while curr:\n",
    "        elements.append(str(curr.val))\n",
    "        curr=curr.next\n",
    "\n",
    "    print(' -> '.join(elements))\n",
    "\n",
    "\n",
    "display (Head)"
   ]
  }
 ],
 "metadata": {
  "kernelspec": {
   "display_name": "Python 3",
   "language": "python",
   "name": "python3"
  },
  "language_info": {
   "codemirror_mode": {
    "name": "ipython",
    "version": 3
   },
   "file_extension": ".py",
   "mimetype": "text/x-python",
   "name": "python",
   "nbconvert_exporter": "python",
   "pygments_lexer": "ipython3",
   "version": "3.11.0"
  }
 },
 "nbformat": 4,
 "nbformat_minor": 5
}
