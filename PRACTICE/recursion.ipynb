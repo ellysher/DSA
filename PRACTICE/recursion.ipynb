{
 "cells": [
  {
   "cell_type": "code",
   "execution_count": 3,
   "id": "3f5cf870",
   "metadata": {},
   "outputs": [
    {
     "data": {
      "text/plain": [
       "6765"
      ]
     },
     "execution_count": 3,
     "metadata": {},
     "output_type": "execute_result"
    }
   ],
   "source": [
    "# Fibonacci\n",
    "\n",
    "# F(0)=0\n",
    "# F(1)=1\n",
    "# n>1: F(n)=F(n-1)+F(n-2)\n",
    "\n",
    "def F(n):\n",
    "    if n==0:\n",
    "        return 0\n",
    "    elif n==1:\n",
    "        return 1\n",
    "    else:\n",
    "        return F(n-1)+F(n-2)\n",
    "\n",
    "F(20) "
   ]
  },
  {
   "cell_type": "markdown",
   "id": "eb34a4c8",
   "metadata": {},
   "source": [
    "REVERSING A LINKED LIST"
   ]
  },
  {
   "cell_type": "code",
   "execution_count": 4,
   "id": "d7506a1b",
   "metadata": {},
   "outputs": [],
   "source": [
    "# Singly linked list\n",
    "\n",
    "class SinglyNode:\n",
    "    def __init__(self, val, next=None):\n",
    "        self.val=val\n",
    "        self.next=next\n",
    "\n",
    "    def __str__(self):\n",
    "        return str(self.val)\n",
    "    \n",
    "\n",
    "Head= SinglyNode(1)\n",
    "A= SinglyNode(3)\n",
    "B= SinglyNode(4)\n",
    "C= SinglyNode(7)\n",
    "\n",
    "Head.next=A\n",
    "A.next=B\n",
    "B.next=C\n"
   ]
  },
  {
   "cell_type": "code",
   "execution_count": 5,
   "id": "f8c00ad2",
   "metadata": {},
   "outputs": [
    {
     "name": "stdout",
     "output_type": "stream",
     "text": [
      "7\n",
      "4\n",
      "3\n",
      "1\n"
     ]
    }
   ],
   "source": [
    "def reverse(node):\n",
    "    if not node:\n",
    "        return\n",
    "    \n",
    "\n",
    "    reverse(node.next)\n",
    "    print(node)\n",
    "\n",
    "reverse(Head)"
   ]
  },
  {
   "cell_type": "code",
   "execution_count": null,
   "id": "e81a00c7",
   "metadata": {},
   "outputs": [],
   "source": []
  }
 ],
 "metadata": {
  "kernelspec": {
   "display_name": "Python 3",
   "language": "python",
   "name": "python3"
  },
  "language_info": {
   "codemirror_mode": {
    "name": "ipython",
    "version": 3
   },
   "file_extension": ".py",
   "mimetype": "text/x-python",
   "name": "python",
   "nbconvert_exporter": "python",
   "pygments_lexer": "ipython3",
   "version": "3.11.0"
  }
 },
 "nbformat": 4,
 "nbformat_minor": 5
}
