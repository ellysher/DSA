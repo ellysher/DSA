{
 "cells": [
  {
   "cell_type": "markdown",
   "id": "b63b33b5",
   "metadata": {},
   "source": []
  },
  {
   "cell_type": "code",
   "execution_count": 1,
   "id": "08e72da5",
   "metadata": {},
   "outputs": [],
   "source": [
    "# Singly linked list\n",
    "\n",
    "class SinglyNode:\n",
    "    def __init__(self, val, next=None):\n",
    "        self.val=val\n",
    "        self.next=next\n",
    "\n",
    "    def __str__(self):\n",
    "        return str(self.val)"
   ]
  },
  {
   "cell_type": "code",
   "execution_count": 2,
   "id": "67fd2d01",
   "metadata": {},
   "outputs": [],
   "source": [
    "Head= SinglyNode(1)\n",
    "A= SinglyNode(3)\n",
    "B= SinglyNode(4)\n",
    "C= SinglyNode(7)\n",
    "\n",
    "Head.next=A\n",
    "A.next=B\n",
    "B.next=C\n"
   ]
  },
  {
   "cell_type": "code",
   "execution_count": 3,
   "id": "c468d314",
   "metadata": {},
   "outputs": [
    {
     "name": "stdout",
     "output_type": "stream",
     "text": [
      "1\n",
      "3\n",
      "4\n",
      "7\n"
     ]
    }
   ],
   "source": [
    "# Traverse the list\n",
    "curr=Head\n",
    "\n",
    "while curr:\n",
    "    print(curr)\n",
    "    curr=curr.next"
   ]
  },
  {
   "cell_type": "code",
   "execution_count": 7,
   "id": "149cd293",
   "metadata": {},
   "outputs": [
    {
     "name": "stdout",
     "output_type": "stream",
     "text": [
      "1 -> 3 -> 4 -> 7\n"
     ]
    }
   ],
   "source": [
    "# Display Linked List\n",
    "def display(head):\n",
    "    curr=head\n",
    "    elements=[]\n",
    "    while curr:\n",
    "        elements.append(str(curr.val))\n",
    "        curr=curr.next\n",
    "\n",
    "    print(' -> '.join(elements))\n",
    "\n",
    "\n",
    "display(Head)"
   ]
  },
  {
   "cell_type": "code",
   "execution_count": 9,
   "id": "2c814718",
   "metadata": {},
   "outputs": [
    {
     "data": {
      "text/plain": [
       "True"
      ]
     },
     "execution_count": 9,
     "metadata": {},
     "output_type": "execute_result"
    }
   ],
   "source": [
    "# Search for Node value\n",
    "\n",
    "def search(head,val):\n",
    "    curr=head\n",
    "    while curr:\n",
    "        if val==curr.val:\n",
    "            return True\n",
    "        curr=curr.next\n",
    "\n",
    "    return False\n",
    "\n",
    "search(Head,7)"
   ]
  },
  {
   "cell_type": "code",
   "execution_count": null,
   "id": "c3a7c188",
   "metadata": {},
   "outputs": [],
   "source": [
    "# Doubly Linked List"
   ]
  }
 ],
 "metadata": {
  "kernelspec": {
   "display_name": "Python 3",
   "language": "python",
   "name": "python3"
  },
  "language_info": {
   "codemirror_mode": {
    "name": "ipython",
    "version": 3
   },
   "file_extension": ".py",
   "mimetype": "text/x-python",
   "name": "python",
   "nbconvert_exporter": "python",
   "pygments_lexer": "ipython3",
   "version": "3.11.0"
  }
 },
 "nbformat": 4,
 "nbformat_minor": 5
}
