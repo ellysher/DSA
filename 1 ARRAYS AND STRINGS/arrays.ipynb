{
 "cells": [
  {
   "cell_type": "code",
   "execution_count": 8,
   "metadata": {},
   "outputs": [
    {
     "name": "stdout",
     "output_type": "stream",
     "text": [
      "6\n"
     ]
    }
   ],
   "source": [
    "def largest_difference(arr):\n",
    "    max_diff = 0\n",
    "    for i in range(len(arr)-1):\n",
    "        max_diff = max(max_diff, (arr[i+1] - arr[i]))\n",
    "    return max_diff\n",
    "\n",
    "\n",
    "# example usagee\n",
    "print(largest_difference([1, 2, 3, 4, 5,8,9,15])) "
   ]
  },
  {
   "cell_type": "code",
   "execution_count": 3,
   "metadata": {},
   "outputs": [
    {
     "data": {
      "text/plain": [
       "12"
      ]
     },
     "execution_count": 3,
     "metadata": {},
     "output_type": "execute_result"
    }
   ],
   "source": [
    "def find_second_largest(arr):\n",
    "    unique_numbers= list(set(arr))\n",
    "\n",
    "    if len(unique_numbers)<2:\n",
    "        print(\"Not enough unique numbers\")\n",
    "\n",
    "    else:\n",
    "        return sorted(arr)[-2]\n",
    "    \n",
    "# example\n",
    "\n",
    "find_second_largest([13,12])\n",
    "    \n"
   ]
  }
 ],
 "metadata": {
  "kernelspec": {
   "display_name": "Python 3",
   "language": "python",
   "name": "python3"
  },
  "language_info": {
   "codemirror_mode": {
    "name": "ipython",
    "version": 3
   },
   "file_extension": ".py",
   "mimetype": "text/x-python",
   "name": "python",
   "nbconvert_exporter": "python",
   "pygments_lexer": "ipython3",
   "version": "3.11.0"
  }
 },
 "nbformat": 4,
 "nbformat_minor": 2
}
