{
 "cells": [
  {
   "cell_type": "markdown",
   "id": "052c8f6f",
   "metadata": {},
   "source": [
    "TREES"
   ]
  },
  {
   "cell_type": "code",
   "execution_count": 1,
   "id": "423353ca",
   "metadata": {},
   "outputs": [],
   "source": [
    "class TreeNode:\n",
    "    def __init__(self,data):\n",
    "        self.data = data\n",
    "        self.right = None\n",
    "        self.left = None\n",
    "\n",
    "\n",
    "    def __str__(self):\n",
    "        return str(self.data)"
   ]
  },
  {
   "cell_type": "code",
   "execution_count": 2,
   "id": "f47b552d",
   "metadata": {},
   "outputs": [],
   "source": [
    "A = TreeNode(1)\n",
    "B = TreeNode(2)\n",
    "C = TreeNode(3)\n",
    "D = TreeNode(4)\n",
    "E = TreeNode(5)\n",
    "F = TreeNode(10)\n",
    "\n",
    "A.left = B\n",
    "A.right = C\n",
    "B.left = D\n",
    "B.right = E\n",
    "C.left = F"
   ]
  },
  {
   "cell_type": "markdown",
   "id": "f6e4aa82",
   "metadata": {},
   "source": [
    "# TREE TRAVERSALS\n",
    "\n",
    "## PRE -ORDER TRAVERSAL\n"
   ]
  },
  {
   "cell_type": "code",
   "execution_count": 3,
   "id": "d48c97ff",
   "metadata": {},
   "outputs": [
    {
     "name": "stdout",
     "output_type": "stream",
     "text": [
      "1\n",
      "2\n",
      "4\n",
      "5\n",
      "3\n",
      "10\n"
     ]
    }
   ],
   "source": [
    "def pre_order(node):\n",
    "\n",
    "    if not node:\n",
    "        return\n",
    "    \n",
    "    print(node)\n",
    "    pre_order(node.left)\n",
    "    pre_order(node.right)\n",
    "\n",
    "\n",
    "pre_order(A)"
   ]
  },
  {
   "cell_type": "markdown",
   "id": "0cb3de73",
   "metadata": {},
   "source": [
    "## IN ORDER TRAVERSAL"
   ]
  },
  {
   "cell_type": "code",
   "execution_count": null,
   "id": "6090cd0e",
   "metadata": {},
   "outputs": [],
   "source": []
  }
 ],
 "metadata": {
  "kernelspec": {
   "display_name": "Python 3",
   "language": "python",
   "name": "python3"
  },
  "language_info": {
   "codemirror_mode": {
    "name": "ipython",
    "version": 3
   },
   "file_extension": ".py",
   "mimetype": "text/x-python",
   "name": "python",
   "nbconvert_exporter": "python",
   "pygments_lexer": "ipython3",
   "version": "3.11.0"
  }
 },
 "nbformat": 4,
 "nbformat_minor": 5
}
