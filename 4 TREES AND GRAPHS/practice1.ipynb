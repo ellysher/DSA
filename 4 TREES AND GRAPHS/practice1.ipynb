{
 "cells": [
  {
   "cell_type": "code",
   "execution_count": 1,
   "id": "d3147457",
   "metadata": {},
   "outputs": [],
   "source": [
    "class TreeNode:\n",
    "    def __init__(self,data,right=None,left=None):\n",
    "        self.data = data\n",
    "        self.right= right\n",
    "        self.left = left\n",
    "\n",
    "    def __str__(self):\n",
    "        return str(self.data)"
   ]
  },
  {
   "cell_type": "code",
   "execution_count": 2,
   "id": "509c6c03",
   "metadata": {},
   "outputs": [],
   "source": [
    "A= TreeNode(1)\n",
    "B= TreeNode(2)\n",
    "C= TreeNode(3)\n",
    "D= TreeNode(4)\n",
    "E= TreeNode(5)\n",
    "F= TreeNode(10)\n",
    "\n",
    "A.left = B\n",
    "A.right= C\n",
    "B.left = D\n",
    "B.right = E\n",
    "C.left =   F"
   ]
  },
  {
   "cell_type": "code",
   "execution_count": 3,
   "id": "1638455a",
   "metadata": {},
   "outputs": [
    {
     "name": "stdout",
     "output_type": "stream",
     "text": [
      "1\n",
      "2\n",
      "4\n",
      "5\n",
      "3\n",
      "10\n"
     ]
    }
   ],
   "source": [
    "def pre_order_traversal(node):\n",
    "    if not node:\n",
    "        return\n",
    "    \n",
    "    print(node)\n",
    "    pre_order_traversal(node.left)\n",
    "    pre_order_traversal(node.right)\n",
    "\n",
    "pre_order_traversal(A)"
   ]
  },
  {
   "cell_type": "code",
   "execution_count": 16,
   "id": "a22ebb1a",
   "metadata": {},
   "outputs": [
    {
     "name": "stdout",
     "output_type": "stream",
     "text": [
      "4\n",
      "2\n",
      "5\n",
      "1\n",
      "10\n",
      "3\n"
     ]
    }
   ],
   "source": [
    "def in_order_traversal(node):\n",
    "    if not node:\n",
    "        return\n",
    "    \n",
    "    in_order_traversal(node.left)\n",
    "    print(node)\n",
    "    in_order_traversal(node.right)\n",
    "\n",
    "\n",
    "in_order_traversal(A)"
   ]
  },
  {
   "cell_type": "code",
   "execution_count": 7,
   "id": "b0453716",
   "metadata": {},
   "outputs": [
    {
     "name": "stdout",
     "output_type": "stream",
     "text": [
      "Post-Order Traversal:\n",
      "4 5 2 10 3 1 "
     ]
    }
   ],
   "source": [
    "def post_order_traversal(root):\n",
    "    if root:\n",
    "        # Traverse the left subtree\n",
    "        post_order_traversal(root.left)\n",
    "        # Traverse the right subtree\n",
    "        post_order_traversal(root.right)\n",
    "        # Visit the root node\n",
    "        print(root.data, end=\" \")\n",
    "\n",
    "print(\"Post-Order Traversal:\")\n",
    "post_order_traversal(A)"
   ]
  },
  {
   "cell_type": "code",
   "execution_count": null,
   "id": "d3e74b97",
   "metadata": {},
   "outputs": [],
   "source": []
  }
 ],
 "metadata": {
  "kernelspec": {
   "display_name": "Python 3",
   "language": "python",
   "name": "python3"
  },
  "language_info": {
   "codemirror_mode": {
    "name": "ipython",
    "version": 3
   },
   "file_extension": ".py",
   "mimetype": "text/x-python",
   "name": "python",
   "nbconvert_exporter": "python",
   "pygments_lexer": "ipython3",
   "version": "3.11.0"
  }
 },
 "nbformat": 4,
 "nbformat_minor": 5
}
