{
 "cells": [
  {
   "cell_type": "markdown",
   "id": "fd050147",
   "metadata": {},
   "source": [
    "# LEETCODE GRAPHS QUESTIONS\n",
    "\n",
    "## EASY\n",
    "1971 Find if Path Exists in Graph\n",
    "\n",
    "997 Find the Town Judge\n",
    "\n",
    "1042 Flower Planting With No Adjacent\n",
    "\n",
    "1557 Minimum Number of Vertices to Reach All Nodes\n",
    "\n",
    "841 Keys and Rooms\n",
    "\n",
    "1979 Find the Largest Graph Component\n",
    "\n",
    "2316 Count Unreachable Pairs of Nodes in an Undirected Graph\n",
    "\n",
    "2421 Number of Good Paths\n",
    "\n",
    "261 Graph Valid Tree"
   ]
  },
  {
   "cell_type": "markdown",
   "id": "889bdd5a",
   "metadata": {},
   "source": [
    "## 1971 Find if Path Exists in Graph\n"
   ]
  },
  {
   "cell_type": "code",
   "execution_count": null,
   "id": "00c01b4c",
   "metadata": {},
   "outputs": [],
   "source": []
  },
  {
   "cell_type": "markdown",
   "id": "a3b41b86",
   "metadata": {},
   "source": [
    "## 997 Find the Town Judge"
   ]
  },
  {
   "cell_type": "code",
   "execution_count": null,
   "id": "2befec30",
   "metadata": {},
   "outputs": [],
   "source": []
  },
  {
   "cell_type": "markdown",
   "id": "82ced483",
   "metadata": {},
   "source": [
    "## 1042 Flower Planting With No Adjacent\n"
   ]
  },
  {
   "cell_type": "code",
   "execution_count": null,
   "id": "ba3af76b",
   "metadata": {},
   "outputs": [],
   "source": []
  },
  {
   "cell_type": "markdown",
   "id": "b59f0151",
   "metadata": {},
   "source": [
    "## 1557 Minimum Number of Vertices to Reach All Nodes"
   ]
  },
  {
   "cell_type": "code",
   "execution_count": null,
   "id": "e4b4e926",
   "metadata": {},
   "outputs": [],
   "source": []
  },
  {
   "cell_type": "markdown",
   "id": "c57696ac",
   "metadata": {},
   "source": [
    "## 841 Keys and Rooms"
   ]
  },
  {
   "cell_type": "code",
   "execution_count": null,
   "id": "6d2ac67c",
   "metadata": {},
   "outputs": [],
   "source": []
  },
  {
   "cell_type": "markdown",
   "id": "82684b78",
   "metadata": {},
   "source": [
    "## 1979 Find the Largest Graph Component"
   ]
  },
  {
   "cell_type": "code",
   "execution_count": null,
   "id": "67900edc",
   "metadata": {},
   "outputs": [],
   "source": []
  },
  {
   "cell_type": "markdown",
   "id": "b742a6be",
   "metadata": {},
   "source": [
    "## 2316 Count Unreachable Pairs of Nodes in an Undirected Graph"
   ]
  },
  {
   "cell_type": "code",
   "execution_count": null,
   "id": "69a907c0",
   "metadata": {},
   "outputs": [],
   "source": []
  },
  {
   "cell_type": "markdown",
   "id": "99b2678f",
   "metadata": {},
   "source": [
    "## 2421 Number of Good Paths"
   ]
  },
  {
   "cell_type": "code",
   "execution_count": null,
   "id": "24de3bdd",
   "metadata": {},
   "outputs": [],
   "source": []
  },
  {
   "cell_type": "markdown",
   "id": "a3b2d05b",
   "metadata": {},
   "source": [
    "## 261 Graph Valid Tree"
   ]
  },
  {
   "cell_type": "code",
   "execution_count": null,
   "id": "47e43ca5",
   "metadata": {},
   "outputs": [],
   "source": []
  },
  {
   "cell_type": "markdown",
   "id": "c2f85cb6",
   "metadata": {},
   "source": [
    "# MEDIUM\n",
    " 207 Course Schedule\n",
    "\n",
    " 210 Course Schedule II\n",
    "\n",
    " 785 Is Graph Bipartite?\n",
    "\n",
    " 802 Find Eventual Safe States\n",
    "\n",
    " 133 Clone Graph\n",
    "\n",
    " 200 Number of Islands\n",
    "\n",
    " 547 Number of Provinces\n",
    "\n",
    " 994 Rotting Oranges\n",
    "\n",
    " 1136 Parallel Courses\n",
    "\n",
    " 1202 Smallest String With Swaps\n",
    "\n",
    " 1466 Reorder Routes to Make All Paths Lead to the City Zero\n",
    "\n",
    " 1514 Path with Maximum Probability\n",
    "\n",
    " 1584 Min Cost to Connect All Points\n",
    "\n",
    " 1631 Path With Minimum Effort\n",
    "\n",
    " 1976 Number of Ways to Arrive at Destination\n",
    " 2071 Maximum Number of Tasks You Can Assign\n",
    "\n",
    " 2616 Minimize the Maximum Difference of Pairs\n",
    "\n",
    " 1857 Largest Color Value in a Directed Graph\n",
    "\n",
    " 787 Cheapest Flights Within K Stops\n",
    "\n",
    " 886 Possible Bipartition\n",
    " \n",
    " \n",
    "\n"
   ]
  },
  {
   "cell_type": "markdown",
   "id": "aef5cbe5",
   "metadata": {},
   "source": [
    "## 207 Course Schedule"
   ]
  },
  {
   "cell_type": "code",
   "execution_count": null,
   "id": "2f300b5e",
   "metadata": {},
   "outputs": [],
   "source": []
  },
  {
   "cell_type": "markdown",
   "id": "9ca6da42",
   "metadata": {},
   "source": [
    "## 210 Course Schedule II"
   ]
  },
  {
   "cell_type": "code",
   "execution_count": null,
   "id": "7a7e51fc",
   "metadata": {},
   "outputs": [],
   "source": []
  },
  {
   "cell_type": "markdown",
   "id": "52795627",
   "metadata": {},
   "source": [
    "## 785 Is Graph Bipartite?"
   ]
  },
  {
   "cell_type": "code",
   "execution_count": null,
   "id": "0e5168bc",
   "metadata": {},
   "outputs": [],
   "source": []
  },
  {
   "cell_type": "markdown",
   "id": "a9ba4896",
   "metadata": {},
   "source": [
    "## 802 Find Eventual Safe States"
   ]
  },
  {
   "cell_type": "code",
   "execution_count": null,
   "id": "3b83fcdd",
   "metadata": {},
   "outputs": [],
   "source": []
  },
  {
   "cell_type": "markdown",
   "id": "2c46fbe3",
   "metadata": {},
   "source": [
    "## 133 Clone Graph"
   ]
  },
  {
   "cell_type": "code",
   "execution_count": null,
   "id": "de486a3e",
   "metadata": {},
   "outputs": [],
   "source": []
  },
  {
   "cell_type": "markdown",
   "id": "35f5969a",
   "metadata": {},
   "source": [
    "## 200 Number of Islands"
   ]
  },
  {
   "cell_type": "code",
   "execution_count": null,
   "id": "af98e166",
   "metadata": {},
   "outputs": [],
   "source": []
  },
  {
   "cell_type": "markdown",
   "id": "1a7aec24",
   "metadata": {},
   "source": [
    "## 547 Number of Provinces"
   ]
  },
  {
   "cell_type": "code",
   "execution_count": null,
   "id": "32d1db77",
   "metadata": {},
   "outputs": [],
   "source": []
  },
  {
   "cell_type": "markdown",
   "id": "e57c553f",
   "metadata": {},
   "source": [
    "## 994 Rotting Oranges"
   ]
  },
  {
   "cell_type": "code",
   "execution_count": null,
   "id": "31c7459e",
   "metadata": {},
   "outputs": [],
   "source": []
  },
  {
   "cell_type": "markdown",
   "id": "e525d4b9",
   "metadata": {},
   "source": [
    "## 1136 Parallel Courses"
   ]
  },
  {
   "cell_type": "code",
   "execution_count": null,
   "id": "6ce00256",
   "metadata": {},
   "outputs": [],
   "source": []
  },
  {
   "cell_type": "markdown",
   "id": "d8af475e",
   "metadata": {},
   "source": [
    "## 1202 Smallest String With Swaps"
   ]
  },
  {
   "cell_type": "code",
   "execution_count": null,
   "id": "3638622b",
   "metadata": {},
   "outputs": [],
   "source": []
  },
  {
   "cell_type": "markdown",
   "id": "3baea59e",
   "metadata": {},
   "source": [
    "## 1466 Reorder Routes to Make All Paths Lead to the City Zero"
   ]
  },
  {
   "cell_type": "code",
   "execution_count": null,
   "id": "946eff87",
   "metadata": {},
   "outputs": [],
   "source": []
  },
  {
   "cell_type": "markdown",
   "id": "88b7b7d0",
   "metadata": {},
   "source": [
    "## 1514 Path with Maximum Probability"
   ]
  },
  {
   "cell_type": "code",
   "execution_count": null,
   "id": "3e599e2d",
   "metadata": {},
   "outputs": [],
   "source": []
  },
  {
   "cell_type": "markdown",
   "id": "28e4b684",
   "metadata": {},
   "source": [
    "## 1584 Min Cost to Connect All Points"
   ]
  },
  {
   "cell_type": "code",
   "execution_count": null,
   "id": "055cfec4",
   "metadata": {},
   "outputs": [],
   "source": []
  },
  {
   "cell_type": "markdown",
   "id": "ccce9a95",
   "metadata": {},
   "source": [
    "## 1631 Path With Minimum Effort\n"
   ]
  },
  {
   "cell_type": "code",
   "execution_count": null,
   "id": "61aee273",
   "metadata": {},
   "outputs": [],
   "source": []
  },
  {
   "cell_type": "markdown",
   "id": "8db58da7",
   "metadata": {},
   "source": [
    "## 1976 Number of Ways to Arrive at Destination\n"
   ]
  },
  {
   "cell_type": "code",
   "execution_count": null,
   "id": "5174cbfd",
   "metadata": {},
   "outputs": [],
   "source": []
  },
  {
   "cell_type": "markdown",
   "id": "9373193e",
   "metadata": {},
   "source": [
    "## 2071 Maximum Number of Tasks You Can Assign"
   ]
  },
  {
   "cell_type": "code",
   "execution_count": null,
   "id": "bd296b7d",
   "metadata": {},
   "outputs": [],
   "source": []
  },
  {
   "cell_type": "markdown",
   "id": "b7433698",
   "metadata": {},
   "source": [
    "## 2616 Minimize the Maximum Difference of Pairs"
   ]
  },
  {
   "cell_type": "code",
   "execution_count": null,
   "id": "d1881880",
   "metadata": {},
   "outputs": [],
   "source": []
  },
  {
   "cell_type": "markdown",
   "id": "2cd8294c",
   "metadata": {},
   "source": [
    "## 1857 Largest Color Value in a Directed Graph"
   ]
  },
  {
   "cell_type": "code",
   "execution_count": null,
   "id": "039d8b69",
   "metadata": {},
   "outputs": [],
   "source": []
  },
  {
   "cell_type": "markdown",
   "id": "7d0c0c99",
   "metadata": {},
   "source": [
    "## 787 Cheapest Flights Within K Stops"
   ]
  },
  {
   "cell_type": "code",
   "execution_count": null,
   "id": "49bdf453",
   "metadata": {},
   "outputs": [],
   "source": []
  },
  {
   "cell_type": "markdown",
   "id": "387cd0b1",
   "metadata": {},
   "source": [
    "## 886 Possible Bipartition"
   ]
  },
  {
   "cell_type": "code",
   "execution_count": null,
   "id": "b6ee708f",
   "metadata": {},
   "outputs": [],
   "source": []
  },
  {
   "cell_type": "markdown",
   "id": "b7f9cce6",
   "metadata": {},
   "source": [
    "#  HARD\n",
    "329 Longest Increasing Path in a Matrix\n",
    "\n",
    "743 Network Delay Time\n",
    "\n",
    "778 Swim in Rising Water\n",
    "\n",
    "815 Bus Routes\n",
    "\n",
    "1192 Critical Connections in a Network\n",
    "\n",
    "1443 Minimum Time to Collect All Apples in a Tree\n",
    "\n",
    "1585 Check If String Is Transformable With Substring Sort Operations\n",
    "\n",
    "1786 Number of Restricted Paths From First to Last Node\n",
    "\n",
    "1928 Minimum Cost to Reach Destination in Time\n",
    "\n",
    "2242 Maximum Score of a Node Sequence\n",
    "\n",
    "2425 Binary Tree Graph\n",
    "\n",
    "2493 Divide the Tree Into Two Trees With Equal Number of Nodes\n",
    "\n",
    "2494 Minimum Number of Edges to Cut to Achieve Permutation\n",
    "\n",
    "2642 Design a Graph to Find All Pair Shortest Paths\n",
    "\n",
    "2696 Minimum Cost to Connect Two Groups of Points\n"
   ]
  },
  {
   "cell_type": "markdown",
   "id": "1bfc3fd7",
   "metadata": {},
   "source": [
    "## 329 Longest Increasing Path in a Matrix"
   ]
  },
  {
   "cell_type": "code",
   "execution_count": null,
   "id": "2ac9087a",
   "metadata": {},
   "outputs": [],
   "source": []
  },
  {
   "cell_type": "markdown",
   "id": "2ba0b728",
   "metadata": {},
   "source": [
    "## 743 Network Delay Time"
   ]
  },
  {
   "cell_type": "code",
   "execution_count": null,
   "id": "250e1af8",
   "metadata": {},
   "outputs": [],
   "source": []
  },
  {
   "cell_type": "markdown",
   "id": "735414fb",
   "metadata": {},
   "source": [
    "## 778 Swim in Rising Water"
   ]
  },
  {
   "cell_type": "code",
   "execution_count": null,
   "id": "6c20b351",
   "metadata": {},
   "outputs": [],
   "source": []
  },
  {
   "cell_type": "markdown",
   "id": "e7dcbcc4",
   "metadata": {},
   "source": [
    "## 815 Bus Routes\n"
   ]
  },
  {
   "cell_type": "code",
   "execution_count": null,
   "id": "47ed1b4a",
   "metadata": {},
   "outputs": [],
   "source": []
  },
  {
   "cell_type": "markdown",
   "id": "0db87298",
   "metadata": {},
   "source": [
    "## 1192 Critical Connections in a Network"
   ]
  },
  {
   "cell_type": "code",
   "execution_count": null,
   "id": "ad35b97d",
   "metadata": {},
   "outputs": [],
   "source": []
  },
  {
   "cell_type": "markdown",
   "id": "84bf4828",
   "metadata": {},
   "source": [
    "## 1443 Minimum Time to Collect All Apples in a Tree\n"
   ]
  },
  {
   "cell_type": "code",
   "execution_count": null,
   "id": "b2c767a0",
   "metadata": {},
   "outputs": [],
   "source": []
  },
  {
   "cell_type": "markdown",
   "id": "eb058139",
   "metadata": {},
   "source": [
    "## 1585 Check If String Is Transformable With Substring Sort Operations"
   ]
  },
  {
   "cell_type": "code",
   "execution_count": null,
   "id": "fbe969bf",
   "metadata": {},
   "outputs": [],
   "source": []
  },
  {
   "cell_type": "markdown",
   "id": "c48f3473",
   "metadata": {},
   "source": [
    "## 1786 Number of Restricted Paths From First to Last Node"
   ]
  },
  {
   "cell_type": "code",
   "execution_count": null,
   "id": "0a4476b2",
   "metadata": {},
   "outputs": [],
   "source": []
  },
  {
   "cell_type": "markdown",
   "id": "8d9371b8",
   "metadata": {},
   "source": [
    "## 1928 Minimum Cost to Reach Destination in Time"
   ]
  },
  {
   "cell_type": "code",
   "execution_count": null,
   "id": "ceb76fcb",
   "metadata": {},
   "outputs": [],
   "source": []
  },
  {
   "cell_type": "markdown",
   "id": "dc26e3ec",
   "metadata": {},
   "source": [
    "## 2242 Maximum Score of a Node Sequence"
   ]
  },
  {
   "cell_type": "code",
   "execution_count": null,
   "id": "7125a896",
   "metadata": {},
   "outputs": [],
   "source": []
  },
  {
   "cell_type": "markdown",
   "id": "33a74734",
   "metadata": {},
   "source": [
    "## 2425 Binary Tree Graph"
   ]
  },
  {
   "cell_type": "code",
   "execution_count": null,
   "id": "f5661f0f",
   "metadata": {},
   "outputs": [],
   "source": []
  },
  {
   "cell_type": "markdown",
   "id": "f5dda441",
   "metadata": {},
   "source": [
    "## 2493 Divide the Tree Into Two Trees With Equal Number of Nodes"
   ]
  },
  {
   "cell_type": "code",
   "execution_count": null,
   "id": "d8b435be",
   "metadata": {},
   "outputs": [],
   "source": []
  },
  {
   "cell_type": "markdown",
   "id": "a1ecf94e",
   "metadata": {},
   "source": [
    "## 2494 Minimum Number of Edges to Cut to Achieve Permutation"
   ]
  },
  {
   "cell_type": "code",
   "execution_count": null,
   "id": "5f7b5d0c",
   "metadata": {},
   "outputs": [],
   "source": []
  },
  {
   "cell_type": "markdown",
   "id": "73e79c60",
   "metadata": {},
   "source": [
    "## 2642 Design a Graph to Find All Pair Shortest Paths\n"
   ]
  },
  {
   "cell_type": "code",
   "execution_count": null,
   "id": "75ffc90d",
   "metadata": {},
   "outputs": [],
   "source": []
  },
  {
   "cell_type": "markdown",
   "id": "226d83b8",
   "metadata": {},
   "source": [
    "## 2696 Minimum Cost to Connect Two Groups of Points"
   ]
  },
  {
   "cell_type": "code",
   "execution_count": null,
   "id": "b39911df",
   "metadata": {},
   "outputs": [],
   "source": []
  }
 ],
 "metadata": {
  "language_info": {
   "name": "python"
  }
 },
 "nbformat": 4,
 "nbformat_minor": 5
}
