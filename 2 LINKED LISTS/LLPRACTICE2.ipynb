{
 "cells": [
  {
   "cell_type": "markdown",
   "id": "63f647f2",
   "metadata": {},
   "source": [
    "SINGLY LINKED LIST"
   ]
  },
  {
   "cell_type": "code",
   "execution_count": null,
   "id": "1d38d4f4",
   "metadata": {},
   "outputs": [
    {
     "name": "stdout",
     "output_type": "stream",
     "text": [
      "2 -> 3 -> 4 -> 5 -> 6 -> 7 -> None\n"
     ]
    }
   ],
   "source": [
    "class node():\n",
    "    def __init__(self,data):\n",
    "        self.data = data\n",
    "        self.next = None\n",
    "\n",
    "class LinkedList():\n",
    "    def __init__(self,head=None):\n",
    "        self.head = head\n",
    "        \n",
    "    def __str__(self):\n",
    "        return str(self.data)\n",
    "    \n",
    "    \n",
    "    def append(self,data):\n",
    "        new_node = node(data)\n",
    "\n",
    "        if self.head is None:\n",
    "            self.head = new_node\n",
    "            return\n",
    "        curr=self.head\n",
    "        while curr.next:\n",
    "            curr=curr.next\n",
    "        curr.next=new_node\n",
    "\n",
    "    def insert_at_beginning(self,data):\n",
    "        new_node = node(data)\n",
    "\n",
    "        if self.head is None:\n",
    "            self.head = new_node\n",
    "            return \n",
    "        \n",
    "        new_node.next = self.head\n",
    "        self.head = new_node\n",
    "        \n",
    "\n",
    "    def insert_Pos(self,data, pos):\n",
    "        new_node =node(data)\n",
    "\n",
    "        curr=self.head\n",
    "\n",
    "        for _ in range(pos-1):\n",
    "            curr=curr.next\n",
    "        new_node.next = curr.next\n",
    "        curr.next = new_node\n",
    "\n",
    "    def delete_first(self):\n",
    "        self.head=self.head.next\n",
    "\n",
    "    def delete_last(self):\n",
    "        curr = self.head\n",
    "        while curr.next.next:\n",
    "            curr=curr.next\n",
    "        curr.next = None\n",
    "\n",
    "    def delete_node(self,key):\n",
    "        if self.head.data == key:\n",
    "            self.head = self.head.next\n",
    "            return\n",
    "\n",
    "        curr= self.head\n",
    "        \n",
    "        while curr.next and curr.next.data != key:\n",
    "            curr = curr.next\n",
    "\n",
    "        curr.next =curr.next.next\n",
    "\n",
    "\n",
    "\n",
    "    def traverse(self):\n",
    "        if self.head is None:\n",
    "            return \"Empty Linked List\"\n",
    "        \n",
    "        curr = self.head\n",
    "        while curr:\n",
    "            print(curr.data,end= \" -> \")\n",
    "            curr=curr.next\n",
    "\n",
    "        print(None)\n",
    "    \n",
    "\n",
    "\n",
    "\n",
    "\n",
    "sll =LinkedList()\n",
    "sll.append(2)\n",
    "sll.append(3)\n",
    "sll.insert_at_beginning(1)\n",
    "sll.append(5)\n",
    "sll.append(6)\n",
    "sll.append(7)\n",
    "sll.insert_Pos(4,3)\n",
    "#sll.delete_first()\n",
    "#sll.delete_last()\n",
    "#sll.delete_node(1)\n",
    "\n",
    "sll.traverse()\n"
   ]
  },
  {
   "cell_type": "code",
   "execution_count": 38,
   "id": "a15f4db2",
   "metadata": {},
   "outputs": [
    {
     "name": "stdout",
     "output_type": "stream",
     "text": [
      "1 -> 2 -> 4 -> None\n"
     ]
    }
   ],
   "source": [
    "LL1= LinkedList()\n",
    "LL1.append(1)\n",
    "LL1.append(2)\n",
    "LL1.append(4)\n",
    "LL1.traverse()"
   ]
  },
  {
   "cell_type": "code",
   "execution_count": 39,
   "id": "3936ab74",
   "metadata": {},
   "outputs": [
    {
     "name": "stdout",
     "output_type": "stream",
     "text": [
      "1 -> 3 -> 4 -> None\n"
     ]
    }
   ],
   "source": [
    "LL2= LinkedList()\n",
    "LL2.append(1)\n",
    "LL2.append(3)\n",
    "LL2.append(4)\n",
    "LL2.traverse()"
   ]
  },
  {
   "cell_type": "code",
   "execution_count": 45,
   "id": "4ac594f2",
   "metadata": {},
   "outputs": [
    {
     "ename": "AttributeError",
     "evalue": "'LinkedList' object has no attribute 'data'",
     "output_type": "error",
     "traceback": [
      "\u001b[1;31m---------------------------------------------------------------------------\u001b[0m",
      "\u001b[1;31mAttributeError\u001b[0m                            Traceback (most recent call last)",
      "Cell \u001b[1;32mIn[45], line 31\u001b[0m\n\u001b[0;32m     27\u001b[0m         \u001b[38;5;28;01mreturn\u001b[39;00m dummy\u001b[38;5;241m.\u001b[39mnext\n\u001b[0;32m     30\u001b[0m example \u001b[38;5;241m=\u001b[39m Solution()\n\u001b[1;32m---> 31\u001b[0m \u001b[43mexample\u001b[49m\u001b[38;5;241;43m.\u001b[39;49m\u001b[43mmergeTwoLists\u001b[49m\u001b[43m(\u001b[49m\u001b[43mlist1\u001b[49m\u001b[43m \u001b[49m\u001b[38;5;241;43m=\u001b[39;49m\u001b[43m \u001b[49m\u001b[43mLL1\u001b[49m\u001b[43m,\u001b[49m\u001b[43m \u001b[49m\u001b[43mlist2\u001b[49m\u001b[43m \u001b[49m\u001b[38;5;241;43m=\u001b[39;49m\u001b[43m \u001b[49m\u001b[43mLL2\u001b[49m\u001b[43m)\u001b[49m\n",
      "Cell \u001b[1;32mIn[45], line 12\u001b[0m, in \u001b[0;36mSolution.mergeTwoLists\u001b[1;34m(self, list1, list2)\u001b[0m\n\u001b[0;32m      9\u001b[0m tail \u001b[38;5;241m=\u001b[39m dummy\n\u001b[0;32m     11\u001b[0m \u001b[38;5;28;01mwhile\u001b[39;00m list1 \u001b[38;5;129;01mand\u001b[39;00m list2:\n\u001b[1;32m---> 12\u001b[0m     \u001b[38;5;28;01mif\u001b[39;00m \u001b[43mlist1\u001b[49m\u001b[38;5;241;43m.\u001b[39;49m\u001b[43mdata\u001b[49m \u001b[38;5;241m<\u001b[39m list2\u001b[38;5;241m.\u001b[39mdata:\n\u001b[0;32m     13\u001b[0m         tail\u001b[38;5;241m.\u001b[39mnext \u001b[38;5;241m=\u001b[39m list1\n\u001b[0;32m     14\u001b[0m         list1 \u001b[38;5;241m=\u001b[39m list1\u001b[38;5;241m.\u001b[39mnext\n",
      "\u001b[1;31mAttributeError\u001b[0m: 'LinkedList' object has no attribute 'data'"
     ]
    }
   ],
   "source": [
    "class ListNode():\n",
    "    def __init__(self,data=0,next=None):\n",
    "        self.data = data\n",
    "        self.next = next\n",
    "\n",
    "class Solution():\n",
    "    def mergeTwoLists(self,list1,list2):\n",
    "        dummy = ListNode()\n",
    "        tail = dummy\n",
    "\n",
    "        while list1 and list2:\n",
    "            if list1.data < list2.data:\n",
    "                tail.next = list1\n",
    "                list1 = list1.next\n",
    "\n",
    "            else:\n",
    "                tail.next = list2\n",
    "                list2 = list2.next \n",
    "            tail = tail.next\n",
    "\n",
    "        if list1:\n",
    "            tail.next = list1\n",
    "\n",
    "        elif list2:\n",
    "            tail.next = list2\n",
    "\n",
    "        return dummy.next\n",
    "\n",
    "\n",
    "example = Solution()\n",
    "example.mergeTwoLists(list1 = LL1, list2 = LL2)"
   ]
  },
  {
   "cell_type": "code",
   "execution_count": 46,
   "id": "b586e2c3",
   "metadata": {},
   "outputs": [
    {
     "ename": "AttributeError",
     "evalue": "'LinkedList' object has no attribute 'data'",
     "output_type": "error",
     "traceback": [
      "\u001b[1;31m---------------------------------------------------------------------------\u001b[0m",
      "\u001b[1;31mAttributeError\u001b[0m                            Traceback (most recent call last)",
      "Cell \u001b[1;32mIn[46], line 1\u001b[0m\n\u001b[1;32m----> 1\u001b[0m \u001b[38;5;28;43mprint\u001b[39;49m\u001b[43m(\u001b[49m\u001b[43mLL1\u001b[49m\u001b[43m)\u001b[49m\n",
      "Cell \u001b[1;32mIn[30], line 11\u001b[0m, in \u001b[0;36mLinkedList.__str__\u001b[1;34m(self)\u001b[0m\n\u001b[0;32m     10\u001b[0m \u001b[38;5;28;01mdef\u001b[39;00m\u001b[38;5;250m \u001b[39m\u001b[38;5;21m__str__\u001b[39m(\u001b[38;5;28mself\u001b[39m):\n\u001b[1;32m---> 11\u001b[0m     \u001b[38;5;28;01mreturn\u001b[39;00m \u001b[38;5;28mstr\u001b[39m(\u001b[38;5;28;43mself\u001b[39;49m\u001b[38;5;241;43m.\u001b[39;49m\u001b[43mdata\u001b[49m)\n",
      "\u001b[1;31mAttributeError\u001b[0m: 'LinkedList' object has no attribute 'data'"
     ]
    }
   ],
   "source": [
    "print(LL1)"
   ]
  }
 ],
 "metadata": {
  "kernelspec": {
   "display_name": "Python 3",
   "language": "python",
   "name": "python3"
  },
  "language_info": {
   "codemirror_mode": {
    "name": "ipython",
    "version": 3
   },
   "file_extension": ".py",
   "mimetype": "text/x-python",
   "name": "python",
   "nbconvert_exporter": "python",
   "pygments_lexer": "ipython3",
   "version": "3.11.0"
  }
 },
 "nbformat": 4,
 "nbformat_minor": 5
}
