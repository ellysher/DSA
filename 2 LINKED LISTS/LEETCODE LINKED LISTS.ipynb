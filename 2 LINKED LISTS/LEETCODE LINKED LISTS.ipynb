{
 "cells": [
  {
   "cell_type": "markdown",
   "id": "724503df",
   "metadata": {},
   "source": [
    "# LEETCODE LINKED LISTS QUESTIONS\n",
    "\n",
    "## EASY\n",
    "\n",
    "21 Merge Two Sorted Lists\n",
    "\n",
    "83 Remove Duplicates from Sorted List\n",
    "\n",
    "141 Linked List Cycle\n",
    "\n",
    "160 Intersection of Two Linked Lists\n",
    "\n",
    "203 Remove Linked List Elements\n",
    "\n",
    "206 Reverse Linked List\n",
    "\n",
    "234 Palindrome Linked List\n",
    "\n",
    "237 Delete Node in a Linked List\n",
    "\n",
    "876 Middle of the Linked List"
   ]
  },
  {
   "cell_type": "markdown",
   "id": "165e1785",
   "metadata": {},
   "source": [
    "# MEDIUM\n",
    "\n",
    "2 Add Two Numbers\n",
    "\n",
    "19 Remove Nth Node From End of List\n",
    "\n",
    "61 Rotate List\n",
    "\n",
    "82 Remove Duplicates from Sorted List II\n",
    "\n",
    "92 Reverse Linked List II\n",
    "\n",
    "142 Linked List Cycle II\n",
    "\n",
    "143 Reorder List\n",
    "\n",
    "147 Insertion Sort List\n",
    "\n",
    "148 Sort List\n",
    "\n",
    "328 Odd Even Linked List\n",
    "\n",
    "445 Add Two Numbers II\n",
    "\n",
    "725 Split Linked List in Parts\n",
    "\n",
    "817 Linked List Components\n",
    "\n",
    "109 Convert Sorted List to Binary Search Tree\n",
    "\n",
    "138 Copy List with Random Pointer"
   ]
  },
  {
   "cell_type": "markdown",
   "id": "d5b024da",
   "metadata": {},
   "source": [
    "# HARD/ADVANCED\n",
    "\n",
    "25 Reverse Nodes in k-Group\n",
    "\n",
    "23 Merge k Sorted Lists\n",
    "\n",
    "61 Rotate List\n",
    "\n",
    "287 Find the Duplicate Number\n",
    "\n",
    "426 Convert Binary Search Tree to Sorted Doubly Linked List\n",
    "\n",
    "708 Insert into a Sorted Circular Linked List\n",
    "\n",
    "1171 Remove Zero Sum Consecutive Nodes from Linked List\n",
    "\n",
    "1474 Delete N Nodes After M Nodes of a Linked List\n",
    "\n",
    "1669 Merge In Between Linked Lists\n",
    "\n",
    "1721 Swapping Nodes in a Linked List\n",
    "\n",
    "2487 Remove Nodes From Linked List"
   ]
  }
 ],
 "metadata": {
  "language_info": {
   "name": "python"
  }
 },
 "nbformat": 4,
 "nbformat_minor": 5
}
