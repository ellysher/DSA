{
 "cells": [
  {
   "cell_type": "markdown",
   "id": "b2c411cc",
   "metadata": {},
   "source": [
    "# SINGLY LINKED LISTS\n"
   ]
  },
  {
   "cell_type": "code",
   "execution_count": 4,
   "id": "e6ee3ea2",
   "metadata": {},
   "outputs": [
    {
     "name": "stdout",
     "output_type": "stream",
     "text": [
      "1 -> 2 -> 3 -> 4 -> 5 -> None\n"
     ]
    }
   ],
   "source": [
    "class Node:\n",
    "    def __init__(self,data):\n",
    "        self.data =  data\n",
    "        self.next = None\n",
    "\n",
    "class LinkedList:\n",
    "    def __init__(self):\n",
    "        self.head = None\n",
    "\n",
    "    \n",
    "    def add_at_begining(self,data):\n",
    "        new_node =  Node(data)\n",
    "        if self.head is None:\n",
    "            self.head = new_node\n",
    "            return \n",
    "        \n",
    "        new_node.next = self.head\n",
    "        self.head = new_node\n",
    "    \n",
    "    def insert_end(self,data):\n",
    "        new_node= Node(data)\n",
    "        if self.head is None:\n",
    "            self.head = new_node\n",
    "            return \n",
    "\n",
    "        curr = self.head\n",
    "        while curr.next:\n",
    "            curr = curr.next\n",
    "\n",
    "        curr.next = new_node\n",
    "\n",
    "        \n",
    "\n",
    "\n",
    "    \n",
    "\n",
    "    def traverse(self):\n",
    "        if self.head is None:\n",
    "            return 'Empty List'\n",
    "        \n",
    "        curr = self.head\n",
    "        while curr:\n",
    "            print (curr.data,end= ' -> ')\n",
    "            curr=curr.next\n",
    "\n",
    "        print('None')\n",
    "\n",
    "\n",
    "\n",
    "ll= LinkedList()\n",
    "ll.add_at_begining(4)\n",
    "ll.add_at_begining(3)\n",
    "ll.add_at_begining(2)\n",
    "ll.add_at_begining(1)\n",
    "ll.insert_end(5)\n",
    "ll.traverse()\n",
    "\n",
    "        \n",
    "\n",
    "        \n",
    "            "
   ]
  }
 ],
 "metadata": {
  "kernelspec": {
   "display_name": "Python 3",
   "language": "python",
   "name": "python3"
  },
  "language_info": {
   "codemirror_mode": {
    "name": "ipython",
    "version": 3
   },
   "file_extension": ".py",
   "mimetype": "text/x-python",
   "name": "python",
   "nbconvert_exporter": "python",
   "pygments_lexer": "ipython3",
   "version": "3.11.0"
  }
 },
 "nbformat": 4,
 "nbformat_minor": 5
}
