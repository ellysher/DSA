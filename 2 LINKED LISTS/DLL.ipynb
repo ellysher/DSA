{
 "cells": [
  {
   "cell_type": "code",
   "execution_count": 1,
   "id": "4ba5d4e7",
   "metadata": {},
   "outputs": [
    {
     "name": "stdout",
     "output_type": "stream",
     "text": [
      "1 <-> 2 <-> 3 <-> 4 <-> 5 <-> None\n"
     ]
    }
   ],
   "source": [
    "class Node:\n",
    "    def __init__(self,data):\n",
    "        self.data=data\n",
    "        self.next= None\n",
    "        self.prev = None\n",
    "\n",
    "class LinkedList:\n",
    "    def __init__(self):\n",
    "        self.head = None\n",
    "\n",
    "\n",
    "    def add_at_begining(self,data):\n",
    "        new_node= Node(data)\n",
    "\n",
    "        if self.head is None:\n",
    "            self.head=new_node\n",
    "            return\n",
    "        \n",
    "        new_node.next=self.head\n",
    "        self.head.prev=new_node\n",
    "        self.head=new_node\n",
    "\n",
    "\n",
    "    def traverse_forward(self):\n",
    "        if self.head == None:\n",
    "            return 'Empty List'\n",
    "        \n",
    "        curr=self.head\n",
    "        while curr:\n",
    "            print(curr.data,end=' <-> ')\n",
    "            curr=curr.next\n",
    "\n",
    "        print ('None')\n",
    "\n",
    "\n",
    "ll= LinkedList()\n",
    "ll.add_at_begining(5)\n",
    "ll.add_at_begining(4)\n",
    "ll.add_at_begining(3)\n",
    "ll.add_at_begining(2)\n",
    "ll.add_at_begining(1)\n",
    "ll.traverse_forward()"
   ]
  }
 ],
 "metadata": {
  "kernelspec": {
   "display_name": "Python 3",
   "language": "python",
   "name": "python3"
  },
  "language_info": {
   "codemirror_mode": {
    "name": "ipython",
    "version": 3
   },
   "file_extension": ".py",
   "mimetype": "text/x-python",
   "name": "python",
   "nbconvert_exporter": "python",
   "pygments_lexer": "ipython3",
   "version": "3.11.0"
  }
 },
 "nbformat": 4,
 "nbformat_minor": 5
}
