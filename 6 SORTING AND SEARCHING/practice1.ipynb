{
 "cells": [
  {
   "cell_type": "code",
   "execution_count": 1,
   "id": "c0bf4470",
   "metadata": {},
   "outputs": [
    {
     "data": {
      "text/plain": [
       "'Target found at index 2'"
      ]
     },
     "execution_count": 1,
     "metadata": {},
     "output_type": "execute_result"
    }
   ],
   "source": [
    "# LINEAR SEARCH\n",
    "\n",
    "def linear_search(arr, target):\n",
    "    for i in range (len(arr)-1):\n",
    "        if arr[i]== target:\n",
    "            return f'Target found at index {i}'\n",
    "        \n",
    "    return 'Not found'\n",
    "\n",
    "linear_search([1,2,3,4,5],3)"
   ]
  },
  {
   "cell_type": "code",
   "execution_count": 7,
   "id": "c2e091d3",
   "metadata": {},
   "outputs": [
    {
     "data": {
      "text/plain": [
       "'target found at index 4'"
      ]
     },
     "execution_count": 7,
     "metadata": {},
     "output_type": "execute_result"
    }
   ],
   "source": [
    "# BINARY SEARCH ITERATIVE\n",
    "\n",
    "def binary_search(arr,target):\n",
    "    l,r = 0, len(arr)-1\n",
    "\n",
    "    while l <=r:\n",
    "        mid= (l+r)//2\n",
    "        if arr[mid] ==target:\n",
    "            return f'target found at index {mid}'\n",
    "        elif arr[mid]> target:\n",
    "            r= mid-1\n",
    "\n",
    "        else:\n",
    "            l=mid+1\n",
    "\n",
    "    return 'target not found'\n",
    "\n",
    "\n",
    "binary_search([1,2,3,4,5],5)"
   ]
  },
  {
   "cell_type": "code",
   "execution_count": 9,
   "id": "b0570372",
   "metadata": {},
   "outputs": [
    {
     "data": {
      "text/plain": [
       "'Target found at index 4'"
      ]
     },
     "execution_count": 9,
     "metadata": {},
     "output_type": "execute_result"
    }
   ],
   "source": [
    "# BINARY SEARCH RECURSIVE\n",
    "\n",
    "def binary_search(arr,l,r,target):\n",
    "    \n",
    "\n",
    "    if l>r:\n",
    "        return False\n",
    "\n",
    "    mid=(l+r)//2\n",
    "\n",
    "    if arr[mid] == target:\n",
    "        return f'Target found at index {mid}'\n",
    "    \n",
    "    elif arr[mid]> target:\n",
    "        return binary_search(arr,l,mid-1,target)\n",
    "    else:\n",
    "        return binary_search(arr,mid+1,r, target)\n",
    "    \n",
    "\n",
    "\n",
    "arr = [1,2,3,4,5]\n",
    "target= 5\n",
    "l,r = 0,len(arr)-1\n",
    "binary_search(arr,l,r,target)"
   ]
  }
 ],
 "metadata": {
  "kernelspec": {
   "display_name": "Python 3",
   "language": "python",
   "name": "python3"
  },
  "language_info": {
   "codemirror_mode": {
    "name": "ipython",
    "version": 3
   },
   "file_extension": ".py",
   "mimetype": "text/x-python",
   "name": "python",
   "nbconvert_exporter": "python",
   "pygments_lexer": "ipython3",
   "version": "3.11.0"
  }
 },
 "nbformat": 4,
 "nbformat_minor": 5
}
