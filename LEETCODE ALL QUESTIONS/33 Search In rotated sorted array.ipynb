{
 "cells": [
  {
   "cell_type": "code",
   "execution_count": 1,
   "id": "fed26ab2",
   "metadata": {},
   "outputs": [],
   "source": [
    "def search(nums,target):\n",
    "    l, r =0, len(nums)-1\n",
    "\n",
    "    while l<r:\n",
    "        mid = (l+r)//2\n",
    "        if target == nums[mid]:\n",
    "            return mid\n",
    "        \n",
    "        # left sorted portion\n",
    "        if nums[l]<= nums[mid]:\n",
    "            if target > nums[mid] or target<nums[l]:\n",
    "                l = mid +1\n",
    "                \n",
    "            else:\n",
    "                r = mid - 1\n",
    "\n",
    "        # right sorted portion of the array\n",
    "        else:\n",
    "            if target < nums[mid] or target > nums[r]:\n",
    "                r = mid - 1\n",
    "\n",
    "            else:\n",
    "                l = mid + 1\n",
    "                \n",
    "    return -1\n",
    "           \n",
    "             "
   ]
  }
 ],
 "metadata": {
  "kernelspec": {
   "display_name": "Python 3",
   "language": "python",
   "name": "python3"
  },
  "language_info": {
   "codemirror_mode": {
    "name": "ipython",
    "version": 3
   },
   "file_extension": ".py",
   "mimetype": "text/x-python",
   "name": "python",
   "nbconvert_exporter": "python",
   "pygments_lexer": "ipython3",
   "version": "3.11.0"
  }
 },
 "nbformat": 4,
 "nbformat_minor": 5
}
