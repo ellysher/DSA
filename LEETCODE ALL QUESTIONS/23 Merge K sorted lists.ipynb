{
 "cells": [
  {
   "cell_type": "code",
   "execution_count": 1,
   "id": "8afdae42",
   "metadata": {},
   "outputs": [],
   "source": [
    "class Solution:\n",
    "    def mergeKlists(self, lists):\n",
    "        if not lists or len(lists)==0:\n",
    "            return None\n",
    "        \n",
    "        while len(lists)>1:\n",
    "            mergedLists = []\n",
    "\n",
    "            for i in range(0, len(lists),2):\n",
    "                l1 = lists[i]\n",
    "                l2 = lists[i +1] if (i + 1)< len(lists) else None\n",
    "                mergedLists.append(self.mergeList(l1,l2))\n",
    "\n",
    "            lists = mergedLists\n",
    "        return lists[0]\n",
    "    \n",
    "\n",
    "    def mergeList(self,l1,l2):\n",
    "        dummy = ListNode()\n",
    "        tail = dummy\n",
    "\n",
    "        while l1 and l2:\n",
    "            if l1.val < l2.val:\n",
    "                tail.next = l1\n",
    "                l1 = l1.next\n",
    "\n",
    "            else:\n",
    "                tail.next = l2\n",
    "                l2 = l2.next\n",
    "            tail = tail.next\n",
    "\n",
    "\n",
    "        if l1:\n",
    "            tail.next = l1\n",
    "\n",
    "        if l2:\n",
    "            tail.next = l2\n",
    "\n",
    "        return dummy.next\n",
    "        \n",
    "    "
   ]
  }
 ],
 "metadata": {
  "kernelspec": {
   "display_name": "Python 3",
   "language": "python",
   "name": "python3"
  },
  "language_info": {
   "codemirror_mode": {
    "name": "ipython",
    "version": 3
   },
   "file_extension": ".py",
   "mimetype": "text/x-python",
   "name": "python",
   "nbconvert_exporter": "python",
   "pygments_lexer": "ipython3",
   "version": "3.11.0"
  }
 },
 "nbformat": 4,
 "nbformat_minor": 5
}
