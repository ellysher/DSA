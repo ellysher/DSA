{
 "cells": [
  {
   "cell_type": "code",
   "execution_count": 1,
   "id": "0767a58b",
   "metadata": {},
   "outputs": [],
   "source": [
    "def isValid(s):\n",
    "    stack = []\n",
    "    closeToOpen = {')': '(', '}': '{', ']': '['}\n",
    "\n",
    "    for c in s:\n",
    "        if c in closeToOpen:\n",
    "            if stack and stack[-1]==closeToOpen[c]:\n",
    "                stack.pop()\n",
    "            else:\n",
    "                return False\n",
    "            \n",
    "        else:\n",
    "            stack.append(c)\n"
   ]
  }
 ],
 "metadata": {
  "kernelspec": {
   "display_name": "Python 3",
   "language": "python",
   "name": "python3"
  },
  "language_info": {
   "codemirror_mode": {
    "name": "ipython",
    "version": 3
   },
   "file_extension": ".py",
   "mimetype": "text/x-python",
   "name": "python",
   "nbconvert_exporter": "python",
   "pygments_lexer": "ipython3",
   "version": "3.11.0"
  }
 },
 "nbformat": 4,
 "nbformat_minor": 5
}
