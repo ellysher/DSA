{
 "cells": [
  {
   "cell_type": "code",
   "execution_count": null,
   "id": "c4a3b023",
   "metadata": {},
   "outputs": [],
   "source": [
    "def invertTree(self,root):\n",
    "    if not root:\n",
    "        return None\n",
    "    \n",
    "    #swap the children\n",
    "    tmp = root.left\n",
    "    root.left = root.right\n",
    "    root.right = tmp\n",
    "\n",
    "    self.invertTree(root.left)\n",
    "    self.invertTree(root.right)\n",
    "    return root"
   ]
  }
 ],
 "metadata": {
  "language_info": {
   "name": "python"
  }
 },
 "nbformat": 4,
 "nbformat_minor": 5
}
