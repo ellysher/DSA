{
 "cells": [
  {
   "cell_type": "code",
   "execution_count": 3,
   "id": "62b31b5c",
   "metadata": {},
   "outputs": [
    {
     "data": {
      "text/plain": [
       "'323'"
      ]
     },
     "execution_count": 3,
     "metadata": {},
     "output_type": "execute_result"
    }
   ],
   "source": [
    "def removeDigit(number: str, digit: str) -> str:\n",
    "    max_result = \"\"\n",
    "    for i in range(len(number)):\n",
    "        if number[i] == digit:\n",
    "            candidate = number[:i] + number[i+1:]\n",
    "            if candidate > max_result:\n",
    "                max_result = candidate\n",
    "    return max_result\n",
    "\n",
    "\n",
    "removeDigit(\"3233\",\"3\")"
   ]
  }
 ],
 "metadata": {
  "kernelspec": {
   "display_name": "Python 3",
   "language": "python",
   "name": "python3"
  },
  "language_info": {
   "codemirror_mode": {
    "name": "ipython",
    "version": 3
   },
   "file_extension": ".py",
   "mimetype": "text/x-python",
   "name": "python",
   "nbconvert_exporter": "python",
   "pygments_lexer": "ipython3",
   "version": "3.11.0"
  }
 },
 "nbformat": 4,
 "nbformat_minor": 5
}
