{
 "cells": [
  {
   "cell_type": "code",
   "execution_count": null,
   "id": "4cacad35",
   "metadata": {},
   "outputs": [],
   "source": [
    "def minimumCardPickup(cards):\n",
    "    last_seen = {}\n",
    "    min_len = float('inf')\n",
    "\n",
    "    for i, card in enumerate(cards):\n",
    "        if card in last_seen:\n",
    "            min_len = min(min_len, i - last_seen[card] + 1)\n",
    "        last_seen[card] = i\n",
    "\n",
    "    return min_len if min_len != float('inf') else -1\n"
   ]
  }
 ],
 "metadata": {
  "language_info": {
   "name": "python"
  }
 },
 "nbformat": 4,
 "nbformat_minor": 5
}
