{
 "cells": [
  {
   "cell_type": "code",
   "execution_count": 1,
   "id": "d8693977",
   "metadata": {},
   "outputs": [
    {
     "ename": "NameError",
     "evalue": "name 'ListNode' is not defined",
     "output_type": "error",
     "traceback": [
      "\u001b[1;31m---------------------------------------------------------------------------\u001b[0m",
      "\u001b[1;31mNameError\u001b[0m                                 Traceback (most recent call last)",
      "Cell \u001b[1;32mIn[1], line 1\u001b[0m\n\u001b[1;32m----> 1\u001b[0m \u001b[38;5;28;01mdef\u001b[39;00m\u001b[38;5;250m \u001b[39m\u001b[38;5;21mmergeTwoLists\u001b[39m(\u001b[38;5;28mself\u001b[39m, l1: \u001b[43mListNode\u001b[49m, l2: ListNode) \u001b[38;5;241m-\u001b[39m\u001b[38;5;241m>\u001b[39m ListNode:\n\u001b[0;32m      2\u001b[0m         dummy \u001b[38;5;241m=\u001b[39m ListNode(\u001b[38;5;241m0\u001b[39m)\n\u001b[0;32m      3\u001b[0m         current \u001b[38;5;241m=\u001b[39m dummy\n",
      "\u001b[1;31mNameError\u001b[0m: name 'ListNode' is not defined"
     ]
    }
   ],
   "source": [
    "def mergeTwoLists(self, l1: ListNode, l2: ListNode) -> ListNode:\n",
    "        dummy = ListNode(0)\n",
    "        current = dummy\n",
    "\n",
    "        while l1 and l2:\n",
    "            if l1.val <= l2.val:\n",
    "                current.next = l1\n",
    "                l1 = l1.next\n",
    "            else:\n",
    "                current.next = l2\n",
    "                l2 = l2.next\n",
    "            current = current.next\n",
    "\n",
    "        current.next = l1 if l1 is not None else l2\n",
    "        return dummy.next\n"
   ]
  }
 ],
 "metadata": {
  "kernelspec": {
   "display_name": "Python 3",
   "language": "python",
   "name": "python3"
  },
  "language_info": {
   "codemirror_mode": {
    "name": "ipython",
    "version": 3
   },
   "file_extension": ".py",
   "mimetype": "text/x-python",
   "name": "python",
   "nbconvert_exporter": "python",
   "pygments_lexer": "ipython3",
   "version": "3.11.0"
  }
 },
 "nbformat": 4,
 "nbformat_minor": 5
}
