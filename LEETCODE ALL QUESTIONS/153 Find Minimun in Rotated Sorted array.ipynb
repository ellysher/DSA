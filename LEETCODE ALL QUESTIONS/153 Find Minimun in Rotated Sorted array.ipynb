{
 "cells": [
  {
   "cell_type": "code",
   "execution_count": 11,
   "id": "a5e0a583",
   "metadata": {},
   "outputs": [
    {
     "name": "stdout",
     "output_type": "stream",
     "text": [
      "1\n",
      "0\n"
     ]
    }
   ],
   "source": [
    "def findMin(nums):\n",
    "    res = nums[0]\n",
    "    l,r = 0, len(nums)-1\n",
    "\n",
    "    while l <= r:\n",
    "        if nums[l]<nums[r]:\n",
    "            res = min(res,nums[l])\n",
    "\n",
    "            break\n",
    "\n",
    "        m = (l + r)//2\n",
    "        res = min(res, nums[m])\n",
    "        if nums[m]>=nums[l]:\n",
    "            l = m + 1\n",
    "        else:\n",
    "            r = m - 1\n",
    "\n",
    "    return res\n",
    "\n",
    "\n",
    "print(findMin([3, 4, 5, 1, 2]))  # Output: 1\n",
    "print(findMin([4, 5, 6, 7, 0, 1, 2]))  # Output: 0\n"
   ]
  }
 ],
 "metadata": {
  "kernelspec": {
   "display_name": "Python 3",
   "language": "python",
   "name": "python3"
  },
  "language_info": {
   "codemirror_mode": {
    "name": "ipython",
    "version": 3
   },
   "file_extension": ".py",
   "mimetype": "text/x-python",
   "name": "python",
   "nbconvert_exporter": "python",
   "pygments_lexer": "ipython3",
   "version": "3.11.0"
  }
 },
 "nbformat": 4,
 "nbformat_minor": 5
}
