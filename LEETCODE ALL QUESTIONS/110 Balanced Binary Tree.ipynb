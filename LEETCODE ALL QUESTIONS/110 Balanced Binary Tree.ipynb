{
 "cells": [
  {
   "cell_type": "code",
   "execution_count": null,
   "id": "5930f73e",
   "metadata": {},
   "outputs": [],
   "source": [
    "# Definition for a binary tree node.\n",
    "class TreeNode:\n",
    "    def __init__(self, val=0, left=None, right=None):\n",
    "        self.val = val\n",
    "        self.left = left\n",
    "        self.right = right\n",
    "\n",
    "class Solution:\n",
    "    def isBalanced(self, root: TreeNode) -> bool:\n",
    "        def check(node):\n",
    "            if not node:\n",
    "                return 0  # Height of empty tree is 0\n",
    "\n",
    "            left = check(node.left)\n",
    "            if left == -1:\n",
    "                return -1  # Not balanced\n",
    "\n",
    "            right = check(node.right)\n",
    "            if right == -1:\n",
    "                return -1  # Not balanced\n",
    "\n",
    "            if abs(left - right) > 1:\n",
    "                return -1  # Not balanced\n",
    "\n",
    "            return 1 + max(left, right)\n",
    "\n",
    "        return check(root) != -1\n"
   ]
  }
 ],
 "metadata": {
  "language_info": {
   "name": "python"
  }
 },
 "nbformat": 4,
 "nbformat_minor": 5
}
