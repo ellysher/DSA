{
 "cells": [
  {
   "cell_type": "code",
   "execution_count": null,
   "id": "cc52de54",
   "metadata": {},
   "outputs": [],
   "source": [
    "class Solution:\n",
    "    def isSubtree(self, s: TreeNode, t: TreeNode) -> bool:\n",
    "        if not t: return True\n",
    "        if not s: return False\n",
    "\n",
    "        if self.sameTree(s, t):\n",
    "            return True\n",
    "        return (self.isSubtree(s.left, t) or\n",
    "                self.isSubtree(s.right, t))\n",
    "\n",
    "    def sameTree(self, s, t):\n",
    "        if not s and not t:\n",
    "            return True\n",
    "        if s and t and s.val == t.val:\n",
    "            return (self.sameTree(s.left, t.left) and\n",
    "                    self.sameTree(s.right, t.right))\n",
    "        return False\n"
   ]
  }
 ],
 "metadata": {
  "language_info": {
   "name": "python"
  }
 },
 "nbformat": 4,
 "nbformat_minor": 5
}
