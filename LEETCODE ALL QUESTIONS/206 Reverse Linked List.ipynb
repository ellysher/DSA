{
 "cells": [
  {
   "cell_type": "code",
   "execution_count": null,
   "id": "e715d20c",
   "metadata": {},
   "outputs": [],
   "source": [
    "\n",
    "#ITERATIVE\n",
    "def ReversedLL(head):\n",
    "    prev = None\n",
    "    curr = head\n",
    "\n",
    "    while curr:\n",
    "        while curr:\n",
    "            nxt = curr\n",
    "            curr.next = prev\n",
    "            prev= curr\n",
    "            curr= nxt\n",
    "\n",
    "    return prev\n",
    "\n",
    "\n"
   ]
  },
  {
   "cell_type": "code",
   "execution_count": null,
   "metadata": {},
   "outputs": [],
   "source": [
    "# RECURSIVE\n",
    "\n",
    "def reverseList(self,head):\n",
    "    if not head:\n",
    "        return None\n",
    "    \n",
    "    newHead = head\n",
    "    if head.next:\n",
    "        newHead = self.reverseList(head.next)\n",
    "        head.next.next = head\n",
    "\n",
    "    head.next = None\n",
    "\n",
    "    return newHead"
   ]
  }
 ],
 "metadata": {
  "language_info": {
   "name": "python"
  }
 },
 "nbformat": 4,
 "nbformat_minor": 5
}
