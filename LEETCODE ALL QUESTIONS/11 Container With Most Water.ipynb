{
 "cells": [
  {
   "cell_type": "code",
   "execution_count": 1,
   "id": "3830c927",
   "metadata": {},
   "outputs": [
    {
     "data": {
      "text/plain": [
       "49"
      ]
     },
     "execution_count": 1,
     "metadata": {},
     "output_type": "execute_result"
    }
   ],
   "source": [
    "# BRUTE FORCE\n",
    "def maxArea(height):\n",
    "    res =0\n",
    "    for l in range(len(height)):\n",
    "            for r in range(l+1, len(height)):\n",
    "                  area = (r-l)*min(height[l], height[r])\n",
    "                  res = max(res,area)\n",
    "\n",
    "    return res\n",
    "\n",
    "\n",
    "maxArea(height = [1,8,6,2,5,4,8,3,7])"
   ]
  },
  {
   "cell_type": "code",
   "execution_count": null,
   "id": "8c43c028",
   "metadata": {},
   "outputs": [],
   "source": [
    "# LINEAR TIME SOLUTON\n",
    "def maxArea(height):\n",
    "    res =0\n",
    "    r,l = 0,len(height)-1\n",
    "    while l<r:\n",
    "        area = (r-l)*min(height[l], height[r])\n",
    "        res = max(res,area)\n",
    "\n",
    "        if height(l)< height[r]:\n",
    "            l += 1\n",
    "\n",
    "        elif height[l]>height[r]:\n",
    "            r -= 1\n",
    "        else:\n",
    "            r -= 1\n",
    "    return res\n",
    "\n",
    "\n",
    "        "
   ]
  },
  {
   "cell_type": "code",
   "execution_count": null,
   "metadata": {},
   "outputs": [],
   "source": []
  }
 ],
 "metadata": {
  "kernelspec": {
   "display_name": "Python 3",
   "language": "python",
   "name": "python3"
  },
  "language_info": {
   "codemirror_mode": {
    "name": "ipython",
    "version": 3
   },
   "file_extension": ".py",
   "mimetype": "text/x-python",
   "name": "python",
   "nbconvert_exporter": "python",
   "pygments_lexer": "ipython3",
   "version": "3.11.0"
  }
 },
 "nbformat": 4,
 "nbformat_minor": 5
}
