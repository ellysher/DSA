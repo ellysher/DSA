{
 "cells": [
  {
   "cell_type": "code",
   "execution_count": 1,
   "id": "8d8e0ae4",
   "metadata": {},
   "outputs": [
    {
     "data": {
      "text/plain": [
       "5"
      ]
     },
     "execution_count": 1,
     "metadata": {},
     "output_type": "execute_result"
    }
   ],
   "source": [
    "# 121 BEST TIME TO BUY/SELL STOCK\n",
    "\n",
    "def maxProfit(prices):\n",
    "    min_price = float('inf')\n",
    "    max_profit = 0\n",
    "\n",
    "    for price in prices:\n",
    "        # Update minimum price so far\n",
    "        if price < min_price:\n",
    "            min_price = price\n",
    "        # Calculate profit if sold today and update max profit\n",
    "        elif price - min_price > max_profit:\n",
    "            max_profit = price - min_price\n",
    "\n",
    "    return max_profit\n",
    "\n",
    "\n",
    "maxProfit(prices = [7,1,5,3,6,4])"
   ]
  }
 ],
 "metadata": {
  "kernelspec": {
   "display_name": "Python 3",
   "language": "python",
   "name": "python3"
  },
  "language_info": {
   "codemirror_mode": {
    "name": "ipython",
    "version": 3
   },
   "file_extension": ".py",
   "mimetype": "text/x-python",
   "name": "python",
   "nbconvert_exporter": "python",
   "pygments_lexer": "ipython3",
   "version": "3.11.0"
  }
 },
 "nbformat": 4,
 "nbformat_minor": 5
}
