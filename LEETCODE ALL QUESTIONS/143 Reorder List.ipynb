{
 "cells": [
  {
   "cell_type": "code",
   "execution_count": 1,
   "id": "b2754e9d",
   "metadata": {},
   "outputs": [],
   "source": [
    "# Definition for singly-linked list.\n",
    "class ListNode:\n",
    "    def __init__(self, x):\n",
    "         self.val = x\n",
    "         self.next = None\n",
    "\n",
    "class Solution:\n",
    "    def reorderList(self, head: ListNode) -> None:\n",
    "        # find middle\n",
    "        slow, fast = head, head.next\n",
    "        while fast and fast.next:\n",
    "            slow = slow.next\n",
    "            fast = fast.next.next\n",
    "\n",
    "        # reverse second half\n",
    "        second = slow.next\n",
    "        prev = slow.next = None\n",
    "        while second:\n",
    "            tmp = second.next\n",
    "            second.next = prev\n",
    "            prev = second\n",
    "            second = tmp\n",
    "\n",
    "        # merge two halves\n",
    "        first, second = head, prev\n",
    "        while second:\n",
    "            tmp1, tmp2 = first.next, second.next\n",
    "            first.next = second\n",
    "            second.next = tmp1\n",
    "            first, second = tmp1, tmp2\n"
   ]
  }
 ],
 "metadata": {
  "kernelspec": {
   "display_name": "Python 3",
   "language": "python",
   "name": "python3"
  },
  "language_info": {
   "codemirror_mode": {
    "name": "ipython",
    "version": 3
   },
   "file_extension": ".py",
   "mimetype": "text/x-python",
   "name": "python",
   "nbconvert_exporter": "python",
   "pygments_lexer": "ipython3",
   "version": "3.11.0"
  }
 },
 "nbformat": 4,
 "nbformat_minor": 5
}
