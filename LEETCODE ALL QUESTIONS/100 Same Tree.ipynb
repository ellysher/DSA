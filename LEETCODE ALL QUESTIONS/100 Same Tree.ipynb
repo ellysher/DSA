{
 "cells": [
  {
   "cell_type": "code",
   "execution_count": null,
   "id": "81ee68a7",
   "metadata": {},
   "outputs": [],
   "source": [
    "class Solution:\n",
    "    def isSameTree(self, p: Optional[TreeNode], q: Optional[TreeNode]) -> bool:\n",
    "        if not p and not q:\n",
    "            return True\n",
    "        if not p or not q or p.val != q.val:\n",
    "            return False\n",
    "        return (\n",
    "            self.isSameTree(p.left, q.left) and\n",
    "            self.isSameTree(p.right, q.right)\n",
    "        )\n"
   ]
  }
 ],
 "metadata": {
  "language_info": {
   "name": "python"
  }
 },
 "nbformat": 4,
 "nbformat_minor": 5
}
