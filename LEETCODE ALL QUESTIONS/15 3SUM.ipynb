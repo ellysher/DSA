{
 "cells": [
  {
   "cell_type": "code",
   "execution_count": 1,
   "id": "dbbf0522",
   "metadata": {},
   "outputs": [
    {
     "data": {
      "text/plain": [
       "[[-1, -1, 2], [-1, 0, 1]]"
      ]
     },
     "execution_count": 1,
     "metadata": {},
     "output_type": "execute_result"
    }
   ],
   "source": [
    "def threeSum(nums):\n",
    "    nums.sort()  # Step 1: Sort the array\n",
    "    result = []\n",
    "    n = len(nums)\n",
    "\n",
    "    for i in range(n):\n",
    "        # Skip duplicates for the first number\n",
    "        if i > 0 and nums[i] == nums[i - 1]:\n",
    "            continue\n",
    "        \n",
    "        left = i + 1\n",
    "        right = n - 1\n",
    "\n",
    "        while left < right:\n",
    "            total = nums[i] + nums[left] + nums[right]\n",
    "\n",
    "            if total < 0:\n",
    "                left += 1\n",
    "            elif total > 0:\n",
    "                right -= 1\n",
    "            else:\n",
    "                result.append([nums[i], nums[left], nums[right]])\n",
    "                \n",
    "                # Skip duplicates for left and right\n",
    "                while left < right and nums[left] == nums[left + 1]:\n",
    "                    left += 1\n",
    "                while left < right and nums[right] == nums[right - 1]:\n",
    "                    right -= 1\n",
    "\n",
    "                left += 1\n",
    "                right -= 1\n",
    "\n",
    "    return result\n",
    "threeSum(nums = [-1,0,1,2,-1,-4])"
   ]
  }
 ],
 "metadata": {
  "kernelspec": {
   "display_name": "Python 3",
   "language": "python",
   "name": "python3"
  },
  "language_info": {
   "codemirror_mode": {
    "name": "ipython",
    "version": 3
   },
   "file_extension": ".py",
   "mimetype": "text/x-python",
   "name": "python",
   "nbconvert_exporter": "python",
   "pygments_lexer": "ipython3",
   "version": "3.11.0"
  }
 },
 "nbformat": 4,
 "nbformat_minor": 5
}
