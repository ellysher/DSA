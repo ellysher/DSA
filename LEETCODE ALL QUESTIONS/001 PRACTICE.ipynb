{
 "cells": [
  {
   "cell_type": "code",
   "execution_count": null,
   "id": "48bfc43b",
   "metadata": {},
   "outputs": [],
   "source": [
    "def threeSum(nums):\n",
    "    nums.sort()\n",
    "    n = len(nums)\n",
    "    res = []\n",
    "\n",
    "    for i in range(n):\n",
    "        # Skip duplicates for the first number\n",
    "        if i > 0 and nums[i] == nums[i - 1]:\n",
    "            continue\n",
    "\n",
    "        l, r = i + 1, n - 1\n",
    "        while l < r:\n",
    "            total = nums[i] + nums[l] + nums[r]\n",
    "\n",
    "            if total == 0:\n",
    "                res.append([nums[i], nums[l], nums[r]])\n",
    "                l += 1\n",
    "                r -= 1\n",
    "\n",
    "                # Skip duplicates for the second and third numbers\n",
    "                while l < r and nums[l] == nums[l - 1]:\n",
    "                    l += 1\n",
    "                while l < r and nums[r] == nums[r + 1]:\n",
    "                    r -= 1\n",
    "\n",
    "            elif total < 0:\n",
    "                l += 1\n",
    "            else:\n",
    "                r -= 1\n",
    "\n",
    "    return res\n"
   ]
  },
  {
   "cell_type": "code",
   "execution_count": 3,
   "id": "81c9ffed",
   "metadata": {},
   "outputs": [
    {
     "data": {
      "text/plain": [
       "3"
      ]
     },
     "execution_count": 3,
     "metadata": {},
     "output_type": "execute_result"
    }
   ],
   "source": [
    "# LONGEST SUBSTRING\n",
    "\n",
    "def LongestSubstring(s):\n",
    "\n",
    "    sett =set()\n",
    "    longest =0\n",
    "\n",
    "    l,r = 0,len(s)\n",
    "    \n",
    "    for r in range(len(s)):\n",
    "        while s[r] in sett:\n",
    "            sett.remove(s[l])\n",
    "            l += 1\n",
    "\n",
    "        curr_window = r-l+1\n",
    "        longest = max(longest,curr_window)\n",
    "        sett.add(s[r])\n",
    "    \n",
    "    return longest\n",
    "\n",
    "LongestSubstring(\"abcabcbb\")\n",
    "        \n",
    "\n",
    "    "
   ]
  }
 ],
 "metadata": {
  "kernelspec": {
   "display_name": "Python 3",
   "language": "python",
   "name": "python3"
  },
  "language_info": {
   "codemirror_mode": {
    "name": "ipython",
    "version": 3
   },
   "file_extension": ".py",
   "mimetype": "text/x-python",
   "name": "python",
   "nbconvert_exporter": "python",
   "pygments_lexer": "ipython3",
   "version": "3.11.0"
  }
 },
 "nbformat": 4,
 "nbformat_minor": 5
}
