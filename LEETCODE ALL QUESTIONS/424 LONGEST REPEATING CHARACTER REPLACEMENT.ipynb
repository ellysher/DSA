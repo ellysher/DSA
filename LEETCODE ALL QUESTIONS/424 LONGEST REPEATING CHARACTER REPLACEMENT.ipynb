{
 "cells": [
  {
   "cell_type": "code",
   "execution_count": null,
   "id": "2b9dff4b",
   "metadata": {},
   "outputs": [
    {
     "data": {
      "text/plain": [
       "4"
      ]
     },
     "execution_count": 2,
     "metadata": {},
     "output_type": "execute_result"
    }
   ],
   "source": [
    "\n",
    "# SOLUTION ONE\n",
    "def characterReplacement(s,k):\n",
    "    count = {}\n",
    "    res = 0\n",
    "\n",
    "    l = 0\n",
    "\n",
    "\n",
    "    for r in range(len(s)):\n",
    "        count[s[r]] = 1+count.get(s[r],0)\n",
    "\n",
    "        while (r-l+1) - max(count.values())>k:\n",
    "            count[s[l]] -= 1\n",
    "            l += 1\n",
    "\n",
    "        res = max(res, r-l+1)\n",
    "\n",
    "    return res\n",
    "\n",
    "characterReplacement(s = \"ABAB\", k = 2)"
   ]
  },
  {
   "cell_type": "code",
   "execution_count": 3,
   "id": "f55461f9",
   "metadata": {},
   "outputs": [
    {
     "data": {
      "text/plain": [
       "4"
      ]
     },
     "execution_count": 3,
     "metadata": {},
     "output_type": "execute_result"
    }
   ],
   "source": [
    "# MORE OPTIMAL SOLUTION\n",
    "\n",
    "# SOLUTION ONE\n",
    "def characterReplacement(s,k):\n",
    "    count = {}\n",
    "    res = 0\n",
    "\n",
    "    l = 0\n",
    "    maxf = 0\n",
    "\n",
    "\n",
    "    for r in range(len(s)):\n",
    "        count[s[r]] = 1+count.get(s[r],0)\n",
    "        maxf = max(maxf,count[s[r]])\n",
    "\n",
    "        while (r-l+1) - maxf>k:\n",
    "            count[s[l]] -= 1\n",
    "            l += 1\n",
    "\n",
    "        res = max(res, r-l+1)\n",
    "\n",
    "    return res\n",
    "\n",
    "characterReplacement(s = \"ABAB\", k = 2)"
   ]
  }
 ],
 "metadata": {
  "kernelspec": {
   "display_name": "Python 3",
   "language": "python",
   "name": "python3"
  },
  "language_info": {
   "codemirror_mode": {
    "name": "ipython",
    "version": 3
   },
   "file_extension": ".py",
   "mimetype": "text/x-python",
   "name": "python",
   "nbconvert_exporter": "python",
   "pygments_lexer": "ipython3",
   "version": "3.11.0"
  }
 },
 "nbformat": 4,
 "nbformat_minor": 5
}
